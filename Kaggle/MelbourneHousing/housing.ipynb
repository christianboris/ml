{
 "cells": [
  {
   "cell_type": "markdown",
   "metadata": {},
   "source": [
    "# Melbourne Housing Market\n",
    "\n",
    "The classic Data Science challenge: Analysis and prediction of housing prices in Melbourne, Australia  \n",
    "source: [Kaggle](https://www.kaggle.com/datasets/anthonypino/melbourne-housing-market)"
   ]
  },
  {
   "cell_type": "markdown",
   "metadata": {},
   "source": [
    "## 0. Imports"
   ]
  },
  {
   "cell_type": "code",
   "execution_count": 60,
   "metadata": {},
   "outputs": [],
   "source": [
    "import pandas as pd"
   ]
  },
  {
   "cell_type": "code",
   "execution_count": 61,
   "metadata": {},
   "outputs": [],
   "source": [
    "# Set pandas options\n",
    "pd.set_option('display.float_format', '{:.2f}'.format)"
   ]
  },
  {
   "cell_type": "markdown",
   "metadata": {},
   "source": [
    "## 1. Data analysis"
   ]
  },
  {
   "cell_type": "code",
   "execution_count": 62,
   "metadata": {},
   "outputs": [],
   "source": [
    "data = pd.read_csv('Melbourne_housing_FULL.csv')\n",
    "data_raw = data.copy()"
   ]
  },
  {
   "cell_type": "code",
   "execution_count": 63,
   "metadata": {},
   "outputs": [
    {
     "data": {
      "text/plain": [
       "(34857, 21)"
      ]
     },
     "execution_count": 63,
     "metadata": {},
     "output_type": "execute_result"
    }
   ],
   "source": [
    "data_raw.shape"
   ]
  },
  {
   "cell_type": "code",
   "execution_count": 64,
   "metadata": {},
   "outputs": [
    {
     "name": "stdout",
     "output_type": "stream",
     "text": [
      "<class 'pandas.core.frame.DataFrame'>\n",
      "RangeIndex: 34857 entries, 0 to 34856\n",
      "Data columns (total 21 columns):\n",
      " #   Column         Non-Null Count  Dtype  \n",
      "---  ------         --------------  -----  \n",
      " 0   Suburb         34857 non-null  object \n",
      " 1   Address        34857 non-null  object \n",
      " 2   Rooms          34857 non-null  int64  \n",
      " 3   Type           34857 non-null  object \n",
      " 4   Price          27247 non-null  float64\n",
      " 5   Method         34857 non-null  object \n",
      " 6   SellerG        34857 non-null  object \n",
      " 7   Date           34857 non-null  object \n",
      " 8   Distance       34856 non-null  float64\n",
      " 9   Postcode       34856 non-null  float64\n",
      " 10  Bedroom2       26640 non-null  float64\n",
      " 11  Bathroom       26631 non-null  float64\n",
      " 12  Car            26129 non-null  float64\n",
      " 13  Landsize       23047 non-null  float64\n",
      " 14  BuildingArea   13742 non-null  float64\n",
      " 15  YearBuilt      15551 non-null  float64\n",
      " 16  CouncilArea    34854 non-null  object \n",
      " 17  Lattitude      26881 non-null  float64\n",
      " 18  Longtitude     26881 non-null  float64\n",
      " 19  Regionname     34854 non-null  object \n",
      " 20  Propertycount  34854 non-null  float64\n",
      "dtypes: float64(12), int64(1), object(8)\n",
      "memory usage: 5.6+ MB\n"
     ]
    }
   ],
   "source": [
    "data_raw.info()"
   ]
  },
  {
   "cell_type": "code",
   "execution_count": 65,
   "metadata": {},
   "outputs": [
    {
     "data": {
      "text/html": [
       "<div>\n",
       "<style scoped>\n",
       "    .dataframe tbody tr th:only-of-type {\n",
       "        vertical-align: middle;\n",
       "    }\n",
       "\n",
       "    .dataframe tbody tr th {\n",
       "        vertical-align: top;\n",
       "    }\n",
       "\n",
       "    .dataframe thead th {\n",
       "        text-align: right;\n",
       "    }\n",
       "</style>\n",
       "<table border=\"1\" class=\"dataframe\">\n",
       "  <thead>\n",
       "    <tr style=\"text-align: right;\">\n",
       "      <th></th>\n",
       "      <th>Suburb</th>\n",
       "      <th>Address</th>\n",
       "      <th>Rooms</th>\n",
       "      <th>Type</th>\n",
       "      <th>Price</th>\n",
       "      <th>Method</th>\n",
       "      <th>SellerG</th>\n",
       "      <th>Date</th>\n",
       "      <th>Distance</th>\n",
       "      <th>Postcode</th>\n",
       "      <th>...</th>\n",
       "      <th>Bathroom</th>\n",
       "      <th>Car</th>\n",
       "      <th>Landsize</th>\n",
       "      <th>BuildingArea</th>\n",
       "      <th>YearBuilt</th>\n",
       "      <th>CouncilArea</th>\n",
       "      <th>Lattitude</th>\n",
       "      <th>Longtitude</th>\n",
       "      <th>Regionname</th>\n",
       "      <th>Propertycount</th>\n",
       "    </tr>\n",
       "  </thead>\n",
       "  <tbody>\n",
       "    <tr>\n",
       "      <th>0</th>\n",
       "      <td>Abbotsford</td>\n",
       "      <td>68 Studley St</td>\n",
       "      <td>2</td>\n",
       "      <td>h</td>\n",
       "      <td>NaN</td>\n",
       "      <td>SS</td>\n",
       "      <td>Jellis</td>\n",
       "      <td>3/09/2016</td>\n",
       "      <td>2.50</td>\n",
       "      <td>3067.00</td>\n",
       "      <td>...</td>\n",
       "      <td>1.00</td>\n",
       "      <td>1.00</td>\n",
       "      <td>126.00</td>\n",
       "      <td>NaN</td>\n",
       "      <td>NaN</td>\n",
       "      <td>Yarra City Council</td>\n",
       "      <td>-37.80</td>\n",
       "      <td>145.00</td>\n",
       "      <td>Northern Metropolitan</td>\n",
       "      <td>4019.00</td>\n",
       "    </tr>\n",
       "    <tr>\n",
       "      <th>1</th>\n",
       "      <td>Abbotsford</td>\n",
       "      <td>85 Turner St</td>\n",
       "      <td>2</td>\n",
       "      <td>h</td>\n",
       "      <td>1480000.00</td>\n",
       "      <td>S</td>\n",
       "      <td>Biggin</td>\n",
       "      <td>3/12/2016</td>\n",
       "      <td>2.50</td>\n",
       "      <td>3067.00</td>\n",
       "      <td>...</td>\n",
       "      <td>1.00</td>\n",
       "      <td>1.00</td>\n",
       "      <td>202.00</td>\n",
       "      <td>NaN</td>\n",
       "      <td>NaN</td>\n",
       "      <td>Yarra City Council</td>\n",
       "      <td>-37.80</td>\n",
       "      <td>145.00</td>\n",
       "      <td>Northern Metropolitan</td>\n",
       "      <td>4019.00</td>\n",
       "    </tr>\n",
       "    <tr>\n",
       "      <th>2</th>\n",
       "      <td>Abbotsford</td>\n",
       "      <td>25 Bloomburg St</td>\n",
       "      <td>2</td>\n",
       "      <td>h</td>\n",
       "      <td>1035000.00</td>\n",
       "      <td>S</td>\n",
       "      <td>Biggin</td>\n",
       "      <td>4/02/2016</td>\n",
       "      <td>2.50</td>\n",
       "      <td>3067.00</td>\n",
       "      <td>...</td>\n",
       "      <td>1.00</td>\n",
       "      <td>0.00</td>\n",
       "      <td>156.00</td>\n",
       "      <td>79.00</td>\n",
       "      <td>1900.00</td>\n",
       "      <td>Yarra City Council</td>\n",
       "      <td>-37.81</td>\n",
       "      <td>144.99</td>\n",
       "      <td>Northern Metropolitan</td>\n",
       "      <td>4019.00</td>\n",
       "    </tr>\n",
       "    <tr>\n",
       "      <th>3</th>\n",
       "      <td>Abbotsford</td>\n",
       "      <td>18/659 Victoria St</td>\n",
       "      <td>3</td>\n",
       "      <td>u</td>\n",
       "      <td>NaN</td>\n",
       "      <td>VB</td>\n",
       "      <td>Rounds</td>\n",
       "      <td>4/02/2016</td>\n",
       "      <td>2.50</td>\n",
       "      <td>3067.00</td>\n",
       "      <td>...</td>\n",
       "      <td>2.00</td>\n",
       "      <td>1.00</td>\n",
       "      <td>0.00</td>\n",
       "      <td>NaN</td>\n",
       "      <td>NaN</td>\n",
       "      <td>Yarra City Council</td>\n",
       "      <td>-37.81</td>\n",
       "      <td>145.01</td>\n",
       "      <td>Northern Metropolitan</td>\n",
       "      <td>4019.00</td>\n",
       "    </tr>\n",
       "    <tr>\n",
       "      <th>4</th>\n",
       "      <td>Abbotsford</td>\n",
       "      <td>5 Charles St</td>\n",
       "      <td>3</td>\n",
       "      <td>h</td>\n",
       "      <td>1465000.00</td>\n",
       "      <td>SP</td>\n",
       "      <td>Biggin</td>\n",
       "      <td>4/03/2017</td>\n",
       "      <td>2.50</td>\n",
       "      <td>3067.00</td>\n",
       "      <td>...</td>\n",
       "      <td>2.00</td>\n",
       "      <td>0.00</td>\n",
       "      <td>134.00</td>\n",
       "      <td>150.00</td>\n",
       "      <td>1900.00</td>\n",
       "      <td>Yarra City Council</td>\n",
       "      <td>-37.81</td>\n",
       "      <td>144.99</td>\n",
       "      <td>Northern Metropolitan</td>\n",
       "      <td>4019.00</td>\n",
       "    </tr>\n",
       "  </tbody>\n",
       "</table>\n",
       "<p>5 rows × 21 columns</p>\n",
       "</div>"
      ],
      "text/plain": [
       "       Suburb             Address  Rooms Type      Price Method SellerG  \\\n",
       "0  Abbotsford       68 Studley St      2    h        NaN     SS  Jellis   \n",
       "1  Abbotsford        85 Turner St      2    h 1480000.00      S  Biggin   \n",
       "2  Abbotsford     25 Bloomburg St      2    h 1035000.00      S  Biggin   \n",
       "3  Abbotsford  18/659 Victoria St      3    u        NaN     VB  Rounds   \n",
       "4  Abbotsford        5 Charles St      3    h 1465000.00     SP  Biggin   \n",
       "\n",
       "        Date  Distance  Postcode  ...  Bathroom  Car  Landsize  BuildingArea  \\\n",
       "0  3/09/2016      2.50   3067.00  ...      1.00 1.00    126.00           NaN   \n",
       "1  3/12/2016      2.50   3067.00  ...      1.00 1.00    202.00           NaN   \n",
       "2  4/02/2016      2.50   3067.00  ...      1.00 0.00    156.00         79.00   \n",
       "3  4/02/2016      2.50   3067.00  ...      2.00 1.00      0.00           NaN   \n",
       "4  4/03/2017      2.50   3067.00  ...      2.00 0.00    134.00        150.00   \n",
       "\n",
       "   YearBuilt         CouncilArea Lattitude  Longtitude             Regionname  \\\n",
       "0        NaN  Yarra City Council    -37.80      145.00  Northern Metropolitan   \n",
       "1        NaN  Yarra City Council    -37.80      145.00  Northern Metropolitan   \n",
       "2    1900.00  Yarra City Council    -37.81      144.99  Northern Metropolitan   \n",
       "3        NaN  Yarra City Council    -37.81      145.01  Northern Metropolitan   \n",
       "4    1900.00  Yarra City Council    -37.81      144.99  Northern Metropolitan   \n",
       "\n",
       "  Propertycount  \n",
       "0       4019.00  \n",
       "1       4019.00  \n",
       "2       4019.00  \n",
       "3       4019.00  \n",
       "4       4019.00  \n",
       "\n",
       "[5 rows x 21 columns]"
      ]
     },
     "execution_count": 65,
     "metadata": {},
     "output_type": "execute_result"
    }
   ],
   "source": [
    "data_raw.head()"
   ]
  },
  {
   "cell_type": "code",
   "execution_count": 66,
   "metadata": {},
   "outputs": [
    {
     "data": {
      "text/plain": [
       "Suburb               0\n",
       "Address              0\n",
       "Rooms                0\n",
       "Type                 0\n",
       "Price             7610\n",
       "Method               0\n",
       "SellerG              0\n",
       "Date                 0\n",
       "Distance             1\n",
       "Postcode             1\n",
       "Bedroom2          8217\n",
       "Bathroom          8226\n",
       "Car               8728\n",
       "Landsize         11810\n",
       "BuildingArea     21115\n",
       "YearBuilt        19306\n",
       "CouncilArea          3\n",
       "Lattitude         7976\n",
       "Longtitude        7976\n",
       "Regionname           3\n",
       "Propertycount        3\n",
       "dtype: int64"
      ]
     },
     "execution_count": 66,
     "metadata": {},
     "output_type": "execute_result"
    }
   ],
   "source": [
    "data_raw.isnull().sum()"
   ]
  },
  {
   "cell_type": "code",
   "execution_count": 67,
   "metadata": {},
   "outputs": [],
   "source": [
    "# Data without price is useless\n",
    "data_raw.dropna(subset=['Price'], inplace=True)"
   ]
  },
  {
   "cell_type": "code",
   "execution_count": 68,
   "metadata": {},
   "outputs": [
    {
     "data": {
      "text/plain": [
       "Suburb               0\n",
       "Address              0\n",
       "Rooms                0\n",
       "Type                 0\n",
       "Price                0\n",
       "Method               0\n",
       "SellerG              0\n",
       "Date                 0\n",
       "Distance             1\n",
       "Postcode             1\n",
       "Bedroom2          6441\n",
       "Bathroom          6447\n",
       "Car               6824\n",
       "Landsize          9265\n",
       "BuildingArea     16591\n",
       "YearBuilt        15163\n",
       "CouncilArea          3\n",
       "Lattitude         6254\n",
       "Longtitude        6254\n",
       "Regionname           3\n",
       "Propertycount        3\n",
       "dtype: int64"
      ]
     },
     "execution_count": 68,
     "metadata": {},
     "output_type": "execute_result"
    }
   ],
   "source": [
    "data_raw.isnull().sum()"
   ]
  },
  {
   "cell_type": "code",
   "execution_count": 87,
   "metadata": {},
   "outputs": [
    {
     "name": "stdout",
     "output_type": "stream",
     "text": [
      "shape of data_raw_num: (27247, 13)\n",
      "shape of data_raw_cat: (27247, 8)\n",
      "shape of full dataset: (27247, 21)\n"
     ]
    }
   ],
   "source": [
    "# Splitting of data into numerical and categorical data\n",
    "data_raw_num = data_raw.select_dtypes(include=['int64', 'float64'])\n",
    "data_raw_cat = data_raw.select_dtypes(include=['object'])\n",
    "print(f\"shape of data_raw_num: {data_raw_num.shape}\")\n",
    "print(f\"shape of data_raw_cat: {data_raw_cat.shape}\")\n",
    "print(f\"shape of full dataset: {data_raw.shape}\")"
   ]
  },
  {
   "cell_type": "markdown",
   "metadata": {},
   "source": [
    "## 2. Data Cleaning\n",
    "### 2.1 Numerical Data"
   ]
  },
  {
   "cell_type": "code",
   "execution_count": 70,
   "metadata": {},
   "outputs": [
    {
     "data": {
      "text/html": [
       "<div>\n",
       "<style scoped>\n",
       "    .dataframe tbody tr th:only-of-type {\n",
       "        vertical-align: middle;\n",
       "    }\n",
       "\n",
       "    .dataframe tbody tr th {\n",
       "        vertical-align: top;\n",
       "    }\n",
       "\n",
       "    .dataframe thead th {\n",
       "        text-align: right;\n",
       "    }\n",
       "</style>\n",
       "<table border=\"1\" class=\"dataframe\">\n",
       "  <thead>\n",
       "    <tr style=\"text-align: right;\">\n",
       "      <th></th>\n",
       "      <th>Rooms</th>\n",
       "      <th>Price</th>\n",
       "      <th>Distance</th>\n",
       "      <th>Postcode</th>\n",
       "      <th>Bedroom2</th>\n",
       "      <th>Bathroom</th>\n",
       "      <th>Car</th>\n",
       "      <th>Landsize</th>\n",
       "      <th>BuildingArea</th>\n",
       "      <th>YearBuilt</th>\n",
       "      <th>Lattitude</th>\n",
       "      <th>Longtitude</th>\n",
       "      <th>Propertycount</th>\n",
       "    </tr>\n",
       "  </thead>\n",
       "  <tbody>\n",
       "    <tr>\n",
       "      <th>count</th>\n",
       "      <td>27247.00</td>\n",
       "      <td>27247.00</td>\n",
       "      <td>27246.00</td>\n",
       "      <td>27246.00</td>\n",
       "      <td>20806.00</td>\n",
       "      <td>20800.00</td>\n",
       "      <td>20423.00</td>\n",
       "      <td>17982.00</td>\n",
       "      <td>10656.00</td>\n",
       "      <td>12084.00</td>\n",
       "      <td>20993.00</td>\n",
       "      <td>20993.00</td>\n",
       "      <td>27244.00</td>\n",
       "    </tr>\n",
       "    <tr>\n",
       "      <th>mean</th>\n",
       "      <td>2.99</td>\n",
       "      <td>1050173.34</td>\n",
       "      <td>11.28</td>\n",
       "      <td>3113.80</td>\n",
       "      <td>3.05</td>\n",
       "      <td>1.59</td>\n",
       "      <td>1.72</td>\n",
       "      <td>593.49</td>\n",
       "      <td>156.83</td>\n",
       "      <td>1966.61</td>\n",
       "      <td>-37.81</td>\n",
       "      <td>145.00</td>\n",
       "      <td>7566.78</td>\n",
       "    </tr>\n",
       "    <tr>\n",
       "      <th>std</th>\n",
       "      <td>0.95</td>\n",
       "      <td>641467.13</td>\n",
       "      <td>6.79</td>\n",
       "      <td>111.14</td>\n",
       "      <td>0.96</td>\n",
       "      <td>0.70</td>\n",
       "      <td>0.99</td>\n",
       "      <td>3757.27</td>\n",
       "      <td>449.22</td>\n",
       "      <td>36.76</td>\n",
       "      <td>0.09</td>\n",
       "      <td>0.12</td>\n",
       "      <td>4492.38</td>\n",
       "    </tr>\n",
       "    <tr>\n",
       "      <th>min</th>\n",
       "      <td>1.00</td>\n",
       "      <td>85000.00</td>\n",
       "      <td>0.00</td>\n",
       "      <td>3000.00</td>\n",
       "      <td>0.00</td>\n",
       "      <td>0.00</td>\n",
       "      <td>0.00</td>\n",
       "      <td>0.00</td>\n",
       "      <td>0.00</td>\n",
       "      <td>1196.00</td>\n",
       "      <td>-38.19</td>\n",
       "      <td>144.42</td>\n",
       "      <td>83.00</td>\n",
       "    </tr>\n",
       "    <tr>\n",
       "      <th>25%</th>\n",
       "      <td>2.00</td>\n",
       "      <td>635000.00</td>\n",
       "      <td>6.40</td>\n",
       "      <td>3046.00</td>\n",
       "      <td>2.00</td>\n",
       "      <td>1.00</td>\n",
       "      <td>1.00</td>\n",
       "      <td>219.00</td>\n",
       "      <td>100.00</td>\n",
       "      <td>1950.00</td>\n",
       "      <td>-37.86</td>\n",
       "      <td>144.93</td>\n",
       "      <td>4294.00</td>\n",
       "    </tr>\n",
       "    <tr>\n",
       "      <th>50%</th>\n",
       "      <td>3.00</td>\n",
       "      <td>870000.00</td>\n",
       "      <td>10.50</td>\n",
       "      <td>3088.00</td>\n",
       "      <td>3.00</td>\n",
       "      <td>1.00</td>\n",
       "      <td>2.00</td>\n",
       "      <td>512.00</td>\n",
       "      <td>133.00</td>\n",
       "      <td>1970.00</td>\n",
       "      <td>-37.80</td>\n",
       "      <td>145.00</td>\n",
       "      <td>6567.00</td>\n",
       "    </tr>\n",
       "    <tr>\n",
       "      <th>75%</th>\n",
       "      <td>4.00</td>\n",
       "      <td>1295000.00</td>\n",
       "      <td>14.00</td>\n",
       "      <td>3153.00</td>\n",
       "      <td>4.00</td>\n",
       "      <td>2.00</td>\n",
       "      <td>2.00</td>\n",
       "      <td>664.00</td>\n",
       "      <td>182.00</td>\n",
       "      <td>2000.00</td>\n",
       "      <td>-37.75</td>\n",
       "      <td>145.07</td>\n",
       "      <td>10412.00</td>\n",
       "    </tr>\n",
       "    <tr>\n",
       "      <th>max</th>\n",
       "      <td>16.00</td>\n",
       "      <td>11200000.00</td>\n",
       "      <td>48.10</td>\n",
       "      <td>3978.00</td>\n",
       "      <td>20.00</td>\n",
       "      <td>9.00</td>\n",
       "      <td>18.00</td>\n",
       "      <td>433014.00</td>\n",
       "      <td>44515.00</td>\n",
       "      <td>2019.00</td>\n",
       "      <td>-37.40</td>\n",
       "      <td>145.53</td>\n",
       "      <td>21650.00</td>\n",
       "    </tr>\n",
       "  </tbody>\n",
       "</table>\n",
       "</div>"
      ],
      "text/plain": [
       "         Rooms       Price  Distance  Postcode  Bedroom2  Bathroom      Car  \\\n",
       "count 27247.00    27247.00  27246.00  27246.00  20806.00  20800.00 20423.00   \n",
       "mean      2.99  1050173.34     11.28   3113.80      3.05      1.59     1.72   \n",
       "std       0.95   641467.13      6.79    111.14      0.96      0.70     0.99   \n",
       "min       1.00    85000.00      0.00   3000.00      0.00      0.00     0.00   \n",
       "25%       2.00   635000.00      6.40   3046.00      2.00      1.00     1.00   \n",
       "50%       3.00   870000.00     10.50   3088.00      3.00      1.00     2.00   \n",
       "75%       4.00  1295000.00     14.00   3153.00      4.00      2.00     2.00   \n",
       "max      16.00 11200000.00     48.10   3978.00     20.00      9.00    18.00   \n",
       "\n",
       "       Landsize  BuildingArea  YearBuilt  Lattitude  Longtitude  Propertycount  \n",
       "count  17982.00      10656.00   12084.00   20993.00    20993.00       27244.00  \n",
       "mean     593.49        156.83    1966.61     -37.81      145.00        7566.78  \n",
       "std     3757.27        449.22      36.76       0.09        0.12        4492.38  \n",
       "min        0.00          0.00    1196.00     -38.19      144.42          83.00  \n",
       "25%      219.00        100.00    1950.00     -37.86      144.93        4294.00  \n",
       "50%      512.00        133.00    1970.00     -37.80      145.00        6567.00  \n",
       "75%      664.00        182.00    2000.00     -37.75      145.07       10412.00  \n",
       "max   433014.00      44515.00    2019.00     -37.40      145.53       21650.00  "
      ]
     },
     "execution_count": 70,
     "metadata": {},
     "output_type": "execute_result"
    }
   ],
   "source": [
    "data_raw_num.describe()"
   ]
  },
  {
   "cell_type": "markdown",
   "metadata": {},
   "source": [
    "Some observations that will need further investigation:\n",
    "* The minimum of 'Bedroom2' is 0.\n",
    "* The minimum of 'Bathroom' is 0.\n",
    "* The minimum of 'Landsize' is 0 [meters].\n",
    "* The maximum of 'Landsize' is 4330141 [meters].\n",
    "* The minimum value of 'BuildingArea' is 0.\n",
    "* The maximum value of 'BuildingArea' is 44515 [meters].\n",
    "* The minimum value of 'YearBuilt' is 1196. (Melbourne was founded in 1835)\n",
    "* The maximum value of 'YearBuilt' is 2019. (Dataset was created in 2018)"
   ]
  },
  {
   "cell_type": "code",
   "execution_count": 71,
   "metadata": {},
   "outputs": [
    {
     "name": "stdout",
     "output_type": "stream",
     "text": [
      "Number of entries with bedroom2 < 1: 16\n",
      "Number of entries with bathroom < 1: 34\n",
      "Number of entries with landsize = 0: 1942\n",
      "Number of entries with buildingarea = 0: 61\n",
      "Number of entries with YearBuilt < 1835: 3\n",
      "Number of entries with YearBuilt > 2018: 1\n",
      "Number of entries with buildingarea > landsize: 1373\n"
     ]
    }
   ],
   "source": [
    "print(f\"Number of entries with bedroom2 < 1: {(data_raw_num['Bedroom2'] < 1).sum()}\")\n",
    "print(f\"Number of entries with bathroom < 1: {(data_raw_num['Bathroom'] < 1).sum()}\")\n",
    "print(f\"Number of entries with landsize = 0: {(data_raw_num['Landsize'] == 0).sum()}\")\n",
    "print(f\"Number of entries with buildingarea = 0: {(data_raw_num['BuildingArea'] == 0).sum()}\")\n",
    "print(f\"Number of entries with YearBuilt < 1835: {(data_raw_num['YearBuilt'] < 1835).sum()}\")\n",
    "print(f\"Number of entries with YearBuilt > 2018: {(data_raw_num['YearBuilt'] > 2018).sum()}\")\n",
    "print(f\"Number of entries with buildingarea > landsize: {(data_raw_num['BuildingArea'] > data_raw_num['Landsize']).sum()}\")"
   ]
  },
  {
   "cell_type": "code",
   "execution_count": 72,
   "metadata": {},
   "outputs": [],
   "source": [
    "# Drop rows with invalid data \n",
    "# (probably typos, but not that many that it would be worth further investigation)\n",
    "data_raw_num.drop(data_raw_num[data_raw_num['YearBuilt'] < 1835].index, inplace=True)\n",
    "data_raw_num.drop(data_raw_num[data_raw_num['YearBuilt'] > 2018].index, inplace=True)"
   ]
  },
  {
   "cell_type": "code",
   "execution_count": 73,
   "metadata": {},
   "outputs": [],
   "source": [
    "# Set invalid values to NaN\n",
    "data_raw_num.loc[data_raw_num['Bedroom2'] < 1, 'Bedroom2'] = None\n",
    "data_raw_num.loc[data_raw_num['Bathroom'] < 1, 'Bathroom'] = None\n",
    "data_raw_num.loc[data_raw_num['Landsize'] == 0, 'Landsize'] = None\n",
    "data_raw_num.loc[data_raw_num['BuildingArea'] == 0, 'BuildingArea'] = None"
   ]
  },
  {
   "cell_type": "code",
   "execution_count": 80,
   "metadata": {},
   "outputs": [
    {
     "name": "stdout",
     "output_type": "stream",
     "text": [
      "Number of entries with buildingarea > landsize: 311\n"
     ]
    }
   ],
   "source": [
    "print(f\"Number of entries with buildingarea > landsize: {(data_raw_num['BuildingArea'] > data_raw_num['Landsize']).sum()}\")"
   ]
  },
  {
   "cell_type": "code",
   "execution_count": 84,
   "metadata": {},
   "outputs": [
    {
     "name": "stdout",
     "output_type": "stream",
     "text": [
      "Number of entries with Bedroom2 > Rooms: 221\n",
      "Number of entries with Bathroom > Rooms: 36\n"
     ]
    }
   ],
   "source": [
    "print(f\"Number of entries with Bedroom2 > Rooms: {(data_raw_num['Bedroom2'] > data_raw_num['Rooms']).sum()}\")\n",
    "print(f\"Number of entries with Bathroom > Rooms: {(data_raw_num['Bathroom'] > data_raw_num['Rooms']).sum()}\")"
   ]
  },
  {
   "cell_type": "code",
   "execution_count": 103,
   "metadata": {},
   "outputs": [],
   "source": [
    "data_raw_num.loc[data_raw_num['Bedroom2'] > data_raw_num['Rooms'], 'Bedroom2'] = None"
   ]
  },
  {
   "cell_type": "markdown",
   "metadata": {},
   "source": [
    "### 2.2 Categorical data"
   ]
  },
  {
   "cell_type": "code",
   "execution_count": 91,
   "metadata": {},
   "outputs": [
    {
     "data": {
      "text/plain": [
       "Suburb           345\n",
       "Address        26751\n",
       "Type               3\n",
       "Method             5\n",
       "SellerG          349\n",
       "Date              78\n",
       "CouncilArea       33\n",
       "Regionname         8\n",
       "dtype: int64"
      ]
     },
     "execution_count": 91,
     "metadata": {},
     "output_type": "execute_result"
    }
   ],
   "source": [
    "data_raw_cat.nunique()"
   ]
  },
  {
   "cell_type": "code",
   "execution_count": null,
   "metadata": {},
   "outputs": [],
   "source": [
    "# The address is unique for each entry, so it is not useful for a model.\n",
    "data_raw_cat.drop(columns=['Address'], inplace=True)"
   ]
  },
  {
   "cell_type": "code",
   "execution_count": 99,
   "metadata": {},
   "outputs": [
    {
     "data": {
      "text/plain": [
       "Type\n",
       "h    18472\n",
       "u     5909\n",
       "t     2866\n",
       "Name: count, dtype: int64"
      ]
     },
     "execution_count": 99,
     "metadata": {},
     "output_type": "execute_result"
    }
   ],
   "source": [
    "data_raw_cat[\"Type\"].value_counts()"
   ]
  },
  {
   "cell_type": "code",
   "execution_count": 94,
   "metadata": {},
   "outputs": [
    {
     "data": {
      "text/plain": [
       "Method\n",
       "S     17515\n",
       "SP     3603\n",
       "PI     3255\n",
       "VB     2684\n",
       "SA      190\n",
       "Name: count, dtype: int64"
      ]
     },
     "execution_count": 94,
     "metadata": {},
     "output_type": "execute_result"
    }
   ],
   "source": [
    "data_raw_cat[\"Method\"].value_counts()"
   ]
  },
  {
   "cell_type": "code",
   "execution_count": 98,
   "metadata": {},
   "outputs": [
    {
     "data": {
      "text/plain": [
       "SellerG\n",
       "Nelson           2735\n",
       "Jellis           2532\n",
       "Barry            2393\n",
       "hockingstuart    2110\n",
       "Ray              1581\n",
       "                 ... \n",
       "Craig               1\n",
       "Reed                1\n",
       "White               1\n",
       "Oak                 1\n",
       "Sanctuary           1\n",
       "Name: count, Length: 349, dtype: int64"
      ]
     },
     "execution_count": 98,
     "metadata": {},
     "output_type": "execute_result"
    }
   ],
   "source": [
    "data_raw_cat[\"SellerG\"].value_counts()"
   ]
  },
  {
   "cell_type": "code",
   "execution_count": 100,
   "metadata": {},
   "outputs": [
    {
     "data": {
      "text/plain": [
       "Date\n",
       "28/10/2017    879\n",
       "17/03/2018    753\n",
       "24/02/2018    723\n",
       "9/12/2017     723\n",
       "25/11/2017    682\n",
       "             ... \n",
       "4/02/2016      35\n",
       "30/09/2017     18\n",
       "20/01/2018     12\n",
       "27/01/2018     11\n",
       "28/01/2016      2\n",
       "Name: count, Length: 78, dtype: int64"
      ]
     },
     "execution_count": 100,
     "metadata": {},
     "output_type": "execute_result"
    }
   ],
   "source": [
    "data_raw_cat[\"Date\"].value_counts()"
   ]
  },
  {
   "cell_type": "code",
   "execution_count": 106,
   "metadata": {},
   "outputs": [
    {
     "data": {
      "text/plain": [
       "'9/12/2017'"
      ]
     },
     "execution_count": 106,
     "metadata": {},
     "output_type": "execute_result"
    }
   ],
   "source": [
    "data_raw_cat[\"Date\"].max()"
   ]
  },
  {
   "cell_type": "code",
   "execution_count": 101,
   "metadata": {},
   "outputs": [
    {
     "data": {
      "text/plain": [
       "CouncilArea\n",
       "Boroondara City Council           2520\n",
       "Darebin City Council              2349\n",
       "Moreland City Council             1790\n",
       "Glen Eira City Council            1643\n",
       "Moonee Valley City Council        1584\n",
       "Melbourne City Council            1502\n",
       "Banyule City Council              1457\n",
       "Brimbank City Council             1366\n",
       "Bayside City Council              1311\n",
       "Maribyrnong City Council          1221\n",
       "Hume City Council                 1036\n",
       "Monash City Council               1007\n",
       "Port Phillip City Council          952\n",
       "Yarra City Council                 918\n",
       "Stonnington City Council           884\n",
       "Manningham City Council            842\n",
       "Hobsons Bay City Council           799\n",
       "Kingston City Council              735\n",
       "Whittlesea City Council            709\n",
       "Wyndham City Council               492\n",
       "Whitehorse City Council            435\n",
       "Maroondah City Council             356\n",
       "Knox City Council                  287\n",
       "Melton City Council                243\n",
       "Frankston City Council             229\n",
       "Greater Dandenong City Council     209\n",
       "Casey City Council                 138\n",
       "Nillumbik Shire Council             78\n",
       "Yarra Ranges Shire Council          71\n",
       "Macedon Ranges Shire Council        39\n",
       "Cardinia Shire Council              26\n",
       "Mitchell Shire Council              11\n",
       "Moorabool Shire Council              5\n",
       "Name: count, dtype: int64"
      ]
     },
     "execution_count": 101,
     "metadata": {},
     "output_type": "execute_result"
    }
   ],
   "source": [
    "data_raw_cat[\"CouncilArea\"].value_counts()"
   ]
  },
  {
   "cell_type": "code",
   "execution_count": 102,
   "metadata": {},
   "outputs": [
    {
     "data": {
      "text/plain": [
       "Regionname\n",
       "Southern Metropolitan         8524\n",
       "Northern Metropolitan         7864\n",
       "Western Metropolitan          5815\n",
       "Eastern Metropolitan          3272\n",
       "South-Eastern Metropolitan    1341\n",
       "Eastern Victoria               166\n",
       "Northern Victoria              166\n",
       "Western Victoria                96\n",
       "Name: count, dtype: int64"
      ]
     },
     "execution_count": 102,
     "metadata": {},
     "output_type": "execute_result"
    }
   ],
   "source": [
    "data_raw_cat[\"Regionname\"].value_counts()"
   ]
  },
  {
   "cell_type": "markdown",
   "metadata": {},
   "source": [
    "# 3. Splitting of data into training and test data"
   ]
  },
  {
   "cell_type": "code",
   "execution_count": null,
   "metadata": {},
   "outputs": [],
   "source": []
  }
 ],
 "metadata": {
  "kernelspec": {
   "display_name": ".venv",
   "language": "python",
   "name": "python3"
  },
  "language_info": {
   "codemirror_mode": {
    "name": "ipython",
    "version": 3
   },
   "file_extension": ".py",
   "mimetype": "text/x-python",
   "name": "python",
   "nbconvert_exporter": "python",
   "pygments_lexer": "ipython3",
   "version": "3.12.1"
  }
 },
 "nbformat": 4,
 "nbformat_minor": 2
}
